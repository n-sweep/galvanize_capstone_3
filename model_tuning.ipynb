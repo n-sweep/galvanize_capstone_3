{
 "cells": [
  {
   "cell_type": "code",
   "execution_count": 1,
   "id": "emerging-wales",
   "metadata": {},
   "outputs": [],
   "source": [
    "import pandas as pd\n",
    "import matplotlib.pyplot as plt\n",
    "from src.model import *\n"
   ]
  },
  {
   "cell_type": "code",
   "execution_count": 2,
   "id": "north-atlanta",
   "metadata": {},
   "outputs": [],
   "source": [
    "cards = pd.read_json('data/cards.json')\n",
    "parent_dir = '/home/jovyan/data/art/'\n",
    "target_size = (224, 224)\n",
    "batch_size = 8\n"
   ]
  },
  {
   "cell_type": "code",
   "execution_count": 3,
   "id": "aerial-jersey",
   "metadata": {},
   "outputs": [],
   "source": [
    "# cards = cards[cards['set'].isin(['m10'])]\n",
    "cards = cards[cards.set_type == 'core']"
   ]
  },
  {
   "cell_type": "code",
   "execution_count": 4,
   "id": "dramatic-newport",
   "metadata": {},
   "outputs": [
    {
     "name": "stdout",
     "output_type": "stream",
     "text": [
      "Found 1533 validated image filenames belonging to 6 classes.\n",
      "Found 383 validated image filenames belonging to 6 classes.\n",
      "Found 481 validated image filenames.\n"
     ]
    },
    {
     "name": "stderr",
     "output_type": "stream",
     "text": [
      "/opt/conda/lib/python3.8/site-packages/keras_preprocessing/image/dataframe_iterator.py:279: UserWarning: Found 12 invalid image filename(s) in x_col=\"path\". These filename(s) will be ignored.\n",
      "  warnings.warn(\n",
      "/opt/conda/lib/python3.8/site-packages/keras_preprocessing/image/dataframe_iterator.py:279: UserWarning: Found 12 invalid image filename(s) in x_col=\"path\". These filename(s) will be ignored.\n",
      "  warnings.warn(\n",
      "/opt/conda/lib/python3.8/site-packages/keras_preprocessing/image/dataframe_iterator.py:279: UserWarning: Found 2 invalid image filename(s) in x_col=\"path\". These filename(s) will be ignored.\n",
      "  warnings.warn(\n"
     ]
    }
   ],
   "source": [
    "train_df, test_df = prepare_data(cards, test_size=0.2)\n",
    "\n",
    "train_gen, valid_gen, test_gen = flow_to_generators(\n",
    "    train_df, test_df,\n",
    "    parent_dir=parent_dir,\n",
    "    target_size=target_size,\n",
    "    batch_size=batch_size\n",
    ")"
   ]
  },
  {
   "cell_type": "code",
   "execution_count": 5,
   "id": "renewable-disposition",
   "metadata": {},
   "outputs": [],
   "source": [
    "input_shape = target_size + (3,)\n",
    "model = Sequential()\n",
    "\n",
    "model.add(Conv2D(32, (3,3), padding='same', activation='relu', input_shape=input_shape))\n",
    "model.add(MaxPooling2D(pool_size=(2,2)))\n",
    "\n",
    "model.add(Conv2D(64, (3,3)))\n",
    "model.add(MaxPooling2D(pool_size=(2,2)))\n",
    "\n",
    "model.add(Conv2D(128, (3,3)))\n",
    "model.add(Dropout(0.2))\n",
    "model.add(MaxPooling2D(pool_size=(2,2)))\n",
    "model.add(Flatten())\n",
    "\n",
    "model.add(Dense(512))\n",
    "model.add(Activation('relu'))\n",
    "model.add(Dropout(0.2))\n",
    "model.add(Dense(6, activation='softmax'))\n",
    "\n",
    "model.compile(\n",
    "    optimizer='adam',\n",
    "    loss='categorical_crossentropy',\n",
    "    metrics=['accuracy']\n",
    ")"
   ]
  },
  {
   "cell_type": "code",
   "execution_count": 6,
   "id": "extra-genome",
   "metadata": {},
   "outputs": [
    {
     "name": "stdout",
     "output_type": "stream",
     "text": [
      "Epoch 1/20\n",
      "191/191 [==============================] - 66s 343ms/step - loss: 2.4965 - accuracy: 0.2456 - val_loss: 1.6668 - val_accuracy: 0.3511\n",
      "Epoch 2/20\n",
      "191/191 [==============================] - 65s 339ms/step - loss: 1.6219 - accuracy: 0.3612 - val_loss: 1.6375 - val_accuracy: 0.3590\n",
      "Epoch 3/20\n",
      "191/191 [==============================] - 65s 339ms/step - loss: 1.5818 - accuracy: 0.3796 - val_loss: 1.5966 - val_accuracy: 0.3617\n",
      "Epoch 4/20\n",
      "191/191 [==============================] - 66s 344ms/step - loss: 1.5727 - accuracy: 0.3750 - val_loss: 1.5553 - val_accuracy: 0.3511\n",
      "Epoch 5/20\n",
      "191/191 [==============================] - 65s 341ms/step - loss: 1.6034 - accuracy: 0.3689 - val_loss: 1.5017 - val_accuracy: 0.4441\n",
      "Epoch 6/20\n",
      "191/191 [==============================] - 66s 343ms/step - loss: 1.5194 - accuracy: 0.4262 - val_loss: 1.5852 - val_accuracy: 0.3590\n",
      "Epoch 7/20\n",
      "191/191 [==============================] - 65s 342ms/step - loss: 1.5277 - accuracy: 0.3962 - val_loss: 1.5481 - val_accuracy: 0.4149\n",
      "Epoch 8/20\n",
      "191/191 [==============================] - 65s 339ms/step - loss: 1.4895 - accuracy: 0.4217 - val_loss: 1.4635 - val_accuracy: 0.4468\n",
      "Epoch 9/20\n",
      "191/191 [==============================] - 66s 344ms/step - loss: 1.4798 - accuracy: 0.4564 - val_loss: 1.7336 - val_accuracy: 0.4016\n",
      "Epoch 10/20\n",
      "191/191 [==============================] - 64s 335ms/step - loss: 1.5299 - accuracy: 0.3911 - val_loss: 1.7954 - val_accuracy: 0.3218\n",
      "Epoch 11/20\n",
      "191/191 [==============================] - 64s 336ms/step - loss: 1.6141 - accuracy: 0.3758 - val_loss: 1.4384 - val_accuracy: 0.4867\n",
      "Epoch 12/20\n",
      "191/191 [==============================] - 64s 335ms/step - loss: 1.5042 - accuracy: 0.4234 - val_loss: 1.4915 - val_accuracy: 0.4176\n",
      "Epoch 13/20\n",
      "191/191 [==============================] - 64s 337ms/step - loss: 1.5073 - accuracy: 0.4464 - val_loss: 1.5150 - val_accuracy: 0.4176\n",
      "Epoch 14/20\n",
      "191/191 [==============================] - 64s 336ms/step - loss: 1.5194 - accuracy: 0.4189 - val_loss: 1.6955 - val_accuracy: 0.3856\n",
      "Epoch 15/20\n",
      "191/191 [==============================] - 64s 336ms/step - loss: 1.5452 - accuracy: 0.4003 - val_loss: 1.7804 - val_accuracy: 0.3537\n",
      "Epoch 16/20\n",
      "191/191 [==============================] - 65s 338ms/step - loss: 1.5457 - accuracy: 0.3957 - val_loss: 1.4474 - val_accuracy: 0.4415\n",
      "Epoch 17/20\n",
      "191/191 [==============================] - 65s 338ms/step - loss: 1.4852 - accuracy: 0.4092 - val_loss: 1.3369 - val_accuracy: 0.5000\n",
      "Epoch 18/20\n",
      "191/191 [==============================] - 64s 334ms/step - loss: 1.5075 - accuracy: 0.4367 - val_loss: 1.5426 - val_accuracy: 0.3910\n",
      "Epoch 19/20\n",
      "191/191 [==============================] - 64s 337ms/step - loss: 1.4964 - accuracy: 0.4458 - val_loss: 1.4211 - val_accuracy: 0.4601\n",
      "Epoch 20/20\n",
      "191/191 [==============================] - 64s 333ms/step - loss: 1.4768 - accuracy: 0.4200 - val_loss: 1.4598 - val_accuracy: 0.4601\n"
     ]
    }
   ],
   "source": [
    "history = model.fit(\n",
    "    train_gen,\n",
    "    validation_data=train_gen,\n",
    "    steps_per_epoch=train_gen.n//train_gen.batch_size,\n",
    "    validation_steps=valid_gen.n//valid_gen.batch_size,\n",
    "    epochs=10\n",
    ")"
   ]
  },
  {
   "cell_type": "code",
   "execution_count": 7,
   "id": "addressed-genome",
   "metadata": {},
   "outputs": [
    {
     "name": "stdout",
     "output_type": "stream",
     "text": [
      "48/48 [==============================] - 7s 141ms/step - loss: 1.7285 - accuracy: 0.4178\n",
      "Test loss: 1.728529930114746\n",
      "Test accuracy: 0.41775456070899963\n"
     ]
    }
   ],
   "source": [
    "score = model.evaluate(valid_gen)\n",
    "print('Test loss:', score[0])\n",
    "print('Test accuracy:', score[1])\n"
   ]
  },
  {
   "cell_type": "code",
   "execution_count": 8,
   "id": "serious-albert",
   "metadata": {},
   "outputs": [
    {
     "data": {
      "text/plain": [
       "[<matplotlib.lines.Line2D at 0x7f1d32f12730>]"
      ]
     },
     "execution_count": 8,
     "metadata": {},
     "output_type": "execute_result"
    },
    {
     "data": {
      "image/png": "[encoded data removed]",
      "text/plain": [
       "<Figure size 432x288 with 1 Axes>"
      ]
     },
     "metadata": {
      "needs_background": "light"
     },
     "output_type": "display_data"
    }
   ],
   "source": [
    "fig, ax = plt.subplots()\n",
    "ax.plot(history.epoch, history.history['loss'])"
   ]
  }
 ],
 "metadata": {
  "kernelspec": {
   "display_name": "Python 3",
   "language": "python",
   "name": "python3"
  },
  "language_info": {
   "codemirror_mode": {
    "name": "ipython",
    "version": 3
   },
   "file_extension": ".py",
   "mimetype": "text/x-python",
   "name": "python",
   "nbconvert_exporter": "python",
   "pygments_lexer": "ipython3",
   "version": "3.8.8"
  }
 },
 "nbformat": 4,
 "nbformat_minor": 5
}
