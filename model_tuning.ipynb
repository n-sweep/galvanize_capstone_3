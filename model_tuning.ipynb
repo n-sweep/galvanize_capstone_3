{
 "cells": [
  {
   "cell_type": "code",
   "execution_count": 1,
   "id": "requested-primary",
   "metadata": {},
   "outputs": [],
   "source": [
    "import pandas as pd\n",
    "import matplotlib.pyplot as plt\n",
    "from sklearn.metrics import confusion_matrix\n",
    "from src.model import *\n",
    "from src.mtg_df_prep import *\n"
   ]
  },
  {
   "cell_type": "code",
   "execution_count": 2,
   "id": "married-petite",
   "metadata": {},
   "outputs": [],
   "source": [
    "parent_dir = '/home/jovyan/data/art/'\n",
    "target_size = (224, 224)\n",
    "batch_size = 8\n"
   ]
  },
  {
   "cell_type": "code",
   "execution_count": 3,
   "id": "supreme-connecticut",
   "metadata": {},
   "outputs": [],
   "source": [
    "cards = load_color_data(mono=True)"
   ]
  },
  {
   "cell_type": "code",
   "execution_count": 4,
   "id": "wrong-property",
   "metadata": {},
   "outputs": [
    {
     "data": {
      "text/plain": [
       "array(['expansion', 'promo', 'core', 'draft_innovation', 'commander',\n",
       "       'starter', 'duel_deck', 'funny', 'token', 'masterpiece',\n",
       "       'planechase', 'masters', 'spellbook', 'box', 'vanguard',\n",
       "       'archenemy', 'from_the_vault', 'memorabilia', 'treasure_chest',\n",
       "       'premium_deck'], dtype=object)"
      ]
     },
     "execution_count": 4,
     "metadata": {},
     "output_type": "execute_result"
    }
   ],
   "source": [
    "cards.set_type.unique()"
   ]
  },
  {
   "cell_type": "code",
   "execution_count": 5,
   "id": "democratic-collapse",
   "metadata": {},
   "outputs": [
    {
     "data": {
      "text/plain": [
       "array(['m21', 'm19', '7ed', 'm13', 'ori', '10e', '5ed', 'm12', 'm20',\n",
       "       'm15', 'm11', '9ed', '8ed', 'leb', 'm10', 'lea', 'm14', '4ed',\n",
       "       '6ed', 'sum', '3ed'], dtype=object)"
      ]
     },
     "execution_count": 5,
     "metadata": {},
     "output_type": "execute_result"
    }
   ],
   "source": [
    "df = cards[cards.set_type.isin(['core'])]\n",
    "# df = cards[cards.set.isin(['m10'])]\n",
    "df.set.unique()"
   ]
  },
  {
   "cell_type": "code",
   "execution_count": 6,
   "id": "early-international",
   "metadata": {},
   "outputs": [
    {
     "name": "stdout",
     "output_type": "stream",
     "text": [
      "Found 1532 validated image filenames belonging to 6 classes.\n",
      "Found 383 validated image filenames belonging to 6 classes.\n",
      "Found 482 validated image filenames.\n"
     ]
    },
    {
     "name": "stderr",
     "output_type": "stream",
     "text": [
      "/opt/conda/lib/python3.8/site-packages/keras_preprocessing/image/dataframe_iterator.py:279: UserWarning: Found 13 invalid image filename(s) in x_col=\"path\". These filename(s) will be ignored.\n",
      "  warnings.warn(\n",
      "/opt/conda/lib/python3.8/site-packages/keras_preprocessing/image/dataframe_iterator.py:279: UserWarning: Found 13 invalid image filename(s) in x_col=\"path\". These filename(s) will be ignored.\n",
      "  warnings.warn(\n",
      "/opt/conda/lib/python3.8/site-packages/keras_preprocessing/image/dataframe_iterator.py:279: UserWarning: Found 1 invalid image filename(s) in x_col=\"path\". These filename(s) will be ignored.\n",
      "  warnings.warn(\n"
     ]
    }
   ],
   "source": [
    "train_df, test_df = prepare_data(df, test_size=0.2)\n",
    "\n",
    "train_gen, valid_gen, test_gen = flow_to_generators(\n",
    "    train_df, test_df,\n",
    "    parent_dir=parent_dir,\n",
    "    target_size=target_size,\n",
    "    batch_size=batch_size\n",
    ")"
   ]
  },
  {
   "cell_type": "code",
   "execution_count": 7,
   "id": "improved-species",
   "metadata": {},
   "outputs": [],
   "source": [
    "input_shape = target_size + (3,)\n",
    "model = Sequential()\n",
    "\n",
    "model.add(Conv2D(32, (3,3), padding='same', activation='relu', input_shape=input_shape))\n",
    "model.add(MaxPooling2D(pool_size=(2,2)))\n",
    "\n",
    "model.add(Conv2D(64, (3,3), activation='relu'))\n",
    "model.add(MaxPooling2D(pool_size=(2,2)))\n",
    "\n",
    "model.add(Conv2D(128, (3,3), activation='relu'))\n",
    "model.add(Dropout(0.2))\n",
    "model.add(MaxPooling2D(pool_size=(2,2)))\n",
    "\n",
    "model.add(Flatten())\n",
    "model.add(Dense(512, activation='relu'))\n",
    "model.add(Dense(6, activation='softmax', kernel_regularizer=tf.keras.regularizers.l2(0.01)))\n",
    "\n",
    "model.compile(\n",
    "    optimizer='adam',\n",
    "    loss='categorical_crossentropy',\n",
    "    metrics=['accuracy']\n",
    ")"
   ]
  },
  {
   "cell_type": "code",
   "execution_count": 8,
   "id": "compatible-fellowship",
   "metadata": {},
   "outputs": [
    {
     "data": {
      "text/plain": [
       "[<tensorflow.python.keras.layers.convolutional.Conv2D at 0x7f1a06db3640>,\n",
       " <tensorflow.python.keras.layers.pooling.MaxPooling2D at 0x7f1a2630b610>,\n",
       " <tensorflow.python.keras.layers.convolutional.Conv2D at 0x7f1a24e0c220>,\n",
       " <tensorflow.python.keras.layers.pooling.MaxPooling2D at 0x7f1a29740610>,\n",
       " <tensorflow.python.keras.layers.convolutional.Conv2D at 0x7f1a11ef2430>,\n",
       " <tensorflow.python.keras.layers.core.Dropout at 0x7f1a234d85e0>,\n",
       " <tensorflow.python.keras.layers.pooling.MaxPooling2D at 0x7f1a234d8be0>,\n",
       " <tensorflow.python.keras.layers.core.Flatten at 0x7f1a240374c0>,\n",
       " <tensorflow.python.keras.layers.core.Dense at 0x7f1a234d8d30>,\n",
       " <tensorflow.python.keras.layers.core.Dense at 0x7f1a288507c0>]"
      ]
     },
     "execution_count": 8,
     "metadata": {},
     "output_type": "execute_result"
    }
   ],
   "source": [
    "model.layers"
   ]
  },
  {
   "cell_type": "code",
   "execution_count": 9,
   "id": "another-yield",
   "metadata": {},
   "outputs": [
    {
     "name": "stdout",
     "output_type": "stream",
     "text": [
      "Model: \"sequential\"\n",
      "_________________________________________________________________\n",
      "Layer (type)                 Output Shape              Param #   \n",
      "=================================================================\n",
      "conv2d (Conv2D)              (None, 224, 224, 32)      896       \n",
      "_________________________________________________________________\n",
      "max_pooling2d (MaxPooling2D) (None, 112, 112, 32)      0         \n",
      "_________________________________________________________________\n",
      "conv2d_1 (Conv2D)            (None, 110, 110, 64)      18496     \n",
      "_________________________________________________________________\n",
      "max_pooling2d_1 (MaxPooling2 (None, 55, 55, 64)        0         \n",
      "_________________________________________________________________\n",
      "conv2d_2 (Conv2D)            (None, 53, 53, 128)       73856     \n",
      "_________________________________________________________________\n",
      "dropout (Dropout)            (None, 53, 53, 128)       0         \n",
      "_________________________________________________________________\n",
      "max_pooling2d_2 (MaxPooling2 (None, 26, 26, 128)       0         \n",
      "_________________________________________________________________\n",
      "flatten (Flatten)            (None, 86528)             0         \n",
      "_________________________________________________________________\n",
      "dense (Dense)                (None, 512)               44302848  \n",
      "_________________________________________________________________\n",
      "dense_1 (Dense)              (None, 6)                 3078      \n",
      "=================================================================\n",
      "Total params: 44,399,174\n",
      "Trainable params: 44,399,174\n",
      "Non-trainable params: 0\n",
      "_________________________________________________________________\n"
     ]
    }
   ],
   "source": [
    "model.summary()"
   ]
  },
  {
   "cell_type": "code",
   "execution_count": 10,
   "id": "compound-probe",
   "metadata": {},
   "outputs": [
    {
     "name": "stdout",
     "output_type": "stream",
     "text": [
      "Epoch 1/20\n",
      "191/191 [==============================] - 54s 278ms/step - loss: 2.1946 - accuracy: 0.2319 - val_loss: 1.6609 - val_accuracy: 0.3191\n",
      "Epoch 2/20\n",
      "191/191 [==============================] - 53s 276ms/step - loss: 1.6622 - accuracy: 0.3504 - val_loss: 1.5873 - val_accuracy: 0.4096\n",
      "Epoch 3/20\n",
      "191/191 [==============================] - 53s 278ms/step - loss: 1.6577 - accuracy: 0.3522 - val_loss: 1.5250 - val_accuracy: 0.4202\n",
      "Epoch 4/20\n",
      "191/191 [==============================] - 53s 277ms/step - loss: 1.6119 - accuracy: 0.3657 - val_loss: 1.6048 - val_accuracy: 0.3856\n",
      "Epoch 5/20\n",
      "191/191 [==============================] - 53s 278ms/step - loss: 1.6033 - accuracy: 0.3672 - val_loss: 1.5345 - val_accuracy: 0.4415\n",
      "Epoch 6/20\n",
      "191/191 [==============================] - 53s 277ms/step - loss: 1.6127 - accuracy: 0.3981 - val_loss: 1.4812 - val_accuracy: 0.4362\n",
      "Epoch 7/20\n",
      "191/191 [==============================] - 52s 274ms/step - loss: 1.5139 - accuracy: 0.4501 - val_loss: 1.6096 - val_accuracy: 0.3644\n",
      "Epoch 8/20\n",
      "191/191 [==============================] - 52s 274ms/step - loss: 1.5082 - accuracy: 0.4242 - val_loss: 1.4335 - val_accuracy: 0.4840\n",
      "Epoch 9/20\n",
      "191/191 [==============================] - 52s 273ms/step - loss: 1.4739 - accuracy: 0.4535 - val_loss: 1.5182 - val_accuracy: 0.4255\n",
      "Epoch 10/20\n",
      "191/191 [==============================] - 52s 273ms/step - loss: 1.4313 - accuracy: 0.4819 - val_loss: 1.4302 - val_accuracy: 0.5027\n",
      "Epoch 11/20\n",
      "191/191 [==============================] - 52s 274ms/step - loss: 1.4314 - accuracy: 0.4518 - val_loss: 1.3783 - val_accuracy: 0.5293\n",
      "Epoch 12/20\n",
      "191/191 [==============================] - 52s 273ms/step - loss: 1.4025 - accuracy: 0.4759 - val_loss: 1.3225 - val_accuracy: 0.5319\n",
      "Epoch 13/20\n",
      "191/191 [==============================] - 52s 273ms/step - loss: 1.3608 - accuracy: 0.4669 - val_loss: 1.3018 - val_accuracy: 0.5319\n",
      "Epoch 14/20\n",
      "191/191 [==============================] - 52s 273ms/step - loss: 1.3703 - accuracy: 0.5069 - val_loss: 1.3489 - val_accuracy: 0.4495\n",
      "Epoch 15/20\n",
      "191/191 [==============================] - 52s 272ms/step - loss: 1.3505 - accuracy: 0.4975 - val_loss: 1.3592 - val_accuracy: 0.5053\n",
      "Epoch 16/20\n",
      "191/191 [==============================] - 52s 273ms/step - loss: 1.3116 - accuracy: 0.5224 - val_loss: 1.3979 - val_accuracy: 0.4601\n",
      "Epoch 17/20\n",
      "191/191 [==============================] - 52s 273ms/step - loss: 1.3046 - accuracy: 0.5273 - val_loss: 1.1685 - val_accuracy: 0.5904\n",
      "Epoch 18/20\n",
      "191/191 [==============================] - 52s 273ms/step - loss: 1.3003 - accuracy: 0.5137 - val_loss: 1.2026 - val_accuracy: 0.5505\n",
      "Epoch 19/20\n",
      "191/191 [==============================] - 52s 273ms/step - loss: 1.2161 - accuracy: 0.5645 - val_loss: 1.2054 - val_accuracy: 0.5745\n",
      "Epoch 20/20\n",
      "191/191 [==============================] - 52s 271ms/step - loss: 1.2542 - accuracy: 0.5435 - val_loss: 1.1700 - val_accuracy: 0.5612\n"
     ]
    }
   ],
   "source": [
    "history = model.fit(\n",
    "    train_gen,\n",
    "    validation_data=train_gen,\n",
    "    steps_per_epoch=train_gen.n//train_gen.batch_size,\n",
    "    validation_steps=valid_gen.n//valid_gen.batch_size,\n",
    "    epochs=20\n",
    ")"
   ]
  },
  {
   "cell_type": "code",
   "execution_count": 11,
   "id": "convertible-edward",
   "metadata": {},
   "outputs": [
    {
     "name": "stdout",
     "output_type": "stream",
     "text": [
      "48/48 [==============================] - 6s 125ms/step - loss: 1.6259 - accuracy: 0.4073\n",
      "Test loss: 1.625884771347046\n",
      "Test accuracy: 0.40731069445610046\n"
     ]
    }
   ],
   "source": [
    "score = model.evaluate(valid_gen)\n",
    "print('Test loss:', score[0])\n",
    "print('Test accuracy:', score[1])\n"
   ]
  },
  {
   "cell_type": "code",
   "execution_count": 12,
   "id": "concerned-papua",
   "metadata": {},
   "outputs": [
    {
     "data": {
      "image/png": "[encoded data removed]",
      "text/plain": [
       "<Figure size 432x288 with 1 Axes>"
      ]
     },
     "metadata": {
      "needs_background": "light"
     },
     "output_type": "display_data"
    }
   ],
   "source": [
    "fig, ax = plt.subplots()\n",
    "ax.plot(history.epoch, history.history['accuracy'])\n",
    "plt.show()"
   ]
  },
  {
   "cell_type": "code",
   "execution_count": 13,
   "id": "offshore-driving",
   "metadata": {},
   "outputs": [
    {
     "data": {
      "text/plain": [
       "8863     W\n",
       "27699    W\n",
       "21940    G\n",
       "15938    B\n",
       "5349     B\n",
       "        ..\n",
       "5282     G\n",
       "25943    R\n",
       "175      C\n",
       "11026    W\n",
       "4747     B\n",
       "Name: target, Length: 482, dtype: object"
      ]
     },
     "execution_count": 13,
     "metadata": {},
     "output_type": "execute_result"
    }
   ],
   "source": [
    "test_df[test_df['path'].isin(test_gen.filenames)]['target']"
   ]
  },
  {
   "cell_type": "code",
   "execution_count": 14,
   "id": "legislative-pilot",
   "metadata": {},
   "outputs": [],
   "source": [
    "filenames = test_gen.filenames\n",
    "predict = model.predict(test_gen, steps=len(filenames))\n",
    "pred = ['CWUBRG'[c] for c in predict.argmax(axis=1)]\n",
    "true = test_df[test_df['path'].isin(test_gen.filenames)]['target']"
   ]
  },
  {
   "cell_type": "code",
   "execution_count": 15,
   "id": "corrected-partner",
   "metadata": {},
   "outputs": [
    {
     "data": {
      "image/png": "[encoded data removed]",
      "text/plain": [
       "<Figure size 432x288 with 1 Axes>"
      ]
     },
     "metadata": {
      "needs_background": "light"
     },
     "output_type": "display_data"
    }
   ],
   "source": [
    "plot_conf_matrix(true, pred)"
   ]
  },
  {
   "cell_type": "code",
   "execution_count": 16,
   "id": "recent-favorite",
   "metadata": {},
   "outputs": [
    {
     "data": {
      "text/html": [
       "<div>\n",
       "<style scoped>\n",
       "    .dataframe tbody tr th:only-of-type {\n",
       "        vertical-align: middle;\n",
       "    }\n",
       "\n",
       "    .dataframe tbody tr th {\n",
       "        vertical-align: top;\n",
       "    }\n",
       "\n",
       "    .dataframe thead th {\n",
       "        text-align: right;\n",
       "    }\n",
       "</style>\n",
       "<table border=\"1\" class=\"dataframe\">\n",
       "  <thead>\n",
       "    <tr style=\"text-align: right;\">\n",
       "      <th></th>\n",
       "      <th>loss</th>\n",
       "      <th>accuracy</th>\n",
       "      <th>val_loss</th>\n",
       "      <th>val_accuracy</th>\n",
       "    </tr>\n",
       "  </thead>\n",
       "  <tbody>\n",
       "    <tr>\n",
       "      <th>0</th>\n",
       "      <td>1.854367</td>\n",
       "      <td>0.265748</td>\n",
       "      <td>1.660873</td>\n",
       "      <td>0.319149</td>\n",
       "    </tr>\n",
       "    <tr>\n",
       "      <th>1</th>\n",
       "      <td>1.679129</td>\n",
       "      <td>0.349738</td>\n",
       "      <td>1.587264</td>\n",
       "      <td>0.409574</td>\n",
       "    </tr>\n",
       "    <tr>\n",
       "      <th>2</th>\n",
       "      <td>1.632169</td>\n",
       "      <td>0.370079</td>\n",
       "      <td>1.524997</td>\n",
       "      <td>0.420213</td>\n",
       "    </tr>\n",
       "    <tr>\n",
       "      <th>3</th>\n",
       "      <td>1.613519</td>\n",
       "      <td>0.358268</td>\n",
       "      <td>1.604833</td>\n",
       "      <td>0.385638</td>\n",
       "    </tr>\n",
       "    <tr>\n",
       "      <th>4</th>\n",
       "      <td>1.566680</td>\n",
       "      <td>0.398294</td>\n",
       "      <td>1.534457</td>\n",
       "      <td>0.441489</td>\n",
       "    </tr>\n",
       "    <tr>\n",
       "      <th>5</th>\n",
       "      <td>1.574608</td>\n",
       "      <td>0.411417</td>\n",
       "      <td>1.481214</td>\n",
       "      <td>0.436170</td>\n",
       "    </tr>\n",
       "    <tr>\n",
       "      <th>6</th>\n",
       "      <td>1.538880</td>\n",
       "      <td>0.420604</td>\n",
       "      <td>1.609575</td>\n",
       "      <td>0.364362</td>\n",
       "    </tr>\n",
       "    <tr>\n",
       "      <th>7</th>\n",
       "      <td>1.528169</td>\n",
       "      <td>0.419291</td>\n",
       "      <td>1.433472</td>\n",
       "      <td>0.484043</td>\n",
       "    </tr>\n",
       "    <tr>\n",
       "      <th>8</th>\n",
       "      <td>1.473521</td>\n",
       "      <td>0.452100</td>\n",
       "      <td>1.518231</td>\n",
       "      <td>0.425532</td>\n",
       "    </tr>\n",
       "    <tr>\n",
       "      <th>9</th>\n",
       "      <td>1.463725</td>\n",
       "      <td>0.456693</td>\n",
       "      <td>1.430208</td>\n",
       "      <td>0.502660</td>\n",
       "    </tr>\n",
       "    <tr>\n",
       "      <th>10</th>\n",
       "      <td>1.468987</td>\n",
       "      <td>0.437664</td>\n",
       "      <td>1.378294</td>\n",
       "      <td>0.529255</td>\n",
       "    </tr>\n",
       "    <tr>\n",
       "      <th>11</th>\n",
       "      <td>1.416755</td>\n",
       "      <td>0.465223</td>\n",
       "      <td>1.322523</td>\n",
       "      <td>0.531915</td>\n",
       "    </tr>\n",
       "    <tr>\n",
       "      <th>12</th>\n",
       "      <td>1.411576</td>\n",
       "      <td>0.459318</td>\n",
       "      <td>1.301823</td>\n",
       "      <td>0.531915</td>\n",
       "    </tr>\n",
       "    <tr>\n",
       "      <th>13</th>\n",
       "      <td>1.373315</td>\n",
       "      <td>0.496719</td>\n",
       "      <td>1.348887</td>\n",
       "      <td>0.449468</td>\n",
       "    </tr>\n",
       "    <tr>\n",
       "      <th>14</th>\n",
       "      <td>1.367530</td>\n",
       "      <td>0.488189</td>\n",
       "      <td>1.359194</td>\n",
       "      <td>0.505319</td>\n",
       "    </tr>\n",
       "    <tr>\n",
       "      <th>15</th>\n",
       "      <td>1.337957</td>\n",
       "      <td>0.500000</td>\n",
       "      <td>1.397926</td>\n",
       "      <td>0.460106</td>\n",
       "    </tr>\n",
       "    <tr>\n",
       "      <th>16</th>\n",
       "      <td>1.309405</td>\n",
       "      <td>0.524278</td>\n",
       "      <td>1.168527</td>\n",
       "      <td>0.590426</td>\n",
       "    </tr>\n",
       "    <tr>\n",
       "      <th>17</th>\n",
       "      <td>1.307722</td>\n",
       "      <td>0.501969</td>\n",
       "      <td>1.202627</td>\n",
       "      <td>0.550532</td>\n",
       "    </tr>\n",
       "    <tr>\n",
       "      <th>18</th>\n",
       "      <td>1.240695</td>\n",
       "      <td>0.550525</td>\n",
       "      <td>1.205406</td>\n",
       "      <td>0.574468</td>\n",
       "    </tr>\n",
       "    <tr>\n",
       "      <th>19</th>\n",
       "      <td>1.222542</td>\n",
       "      <td>0.549869</td>\n",
       "      <td>1.170029</td>\n",
       "      <td>0.561170</td>\n",
       "    </tr>\n",
       "  </tbody>\n",
       "</table>\n",
       "</div>"
      ],
      "text/plain": [
       "        loss  accuracy  val_loss  val_accuracy\n",
       "0   1.854367  0.265748  1.660873      0.319149\n",
       "1   1.679129  0.349738  1.587264      0.409574\n",
       "2   1.632169  0.370079  1.524997      0.420213\n",
       "3   1.613519  0.358268  1.604833      0.385638\n",
       "4   1.566680  0.398294  1.534457      0.441489\n",
       "5   1.574608  0.411417  1.481214      0.436170\n",
       "6   1.538880  0.420604  1.609575      0.364362\n",
       "7   1.528169  0.419291  1.433472      0.484043\n",
       "8   1.473521  0.452100  1.518231      0.425532\n",
       "9   1.463725  0.456693  1.430208      0.502660\n",
       "10  1.468987  0.437664  1.378294      0.529255\n",
       "11  1.416755  0.465223  1.322523      0.531915\n",
       "12  1.411576  0.459318  1.301823      0.531915\n",
       "13  1.373315  0.496719  1.348887      0.449468\n",
       "14  1.367530  0.488189  1.359194      0.505319\n",
       "15  1.337957  0.500000  1.397926      0.460106\n",
       "16  1.309405  0.524278  1.168527      0.590426\n",
       "17  1.307722  0.501969  1.202627      0.550532\n",
       "18  1.240695  0.550525  1.205406      0.574468\n",
       "19  1.222542  0.549869  1.170029      0.561170"
      ]
     },
     "execution_count": 16,
     "metadata": {},
     "output_type": "execute_result"
    }
   ],
   "source": [
    "pd.DataFrame(history.history)"
   ]
  }
 ],
 "metadata": {
  "kernelspec": {
   "display_name": "Python 3",
   "language": "python",
   "name": "python3"
  },
  "language_info": {
   "codemirror_mode": {
    "name": "ipython",
    "version": 3
   },
   "file_extension": ".py",
   "mimetype": "text/x-python",
   "name": "python",
   "nbconvert_exporter": "python",
   "pygments_lexer": "ipython3",
   "version": "3.8.8"
  }
 },
 "nbformat": 4,
 "nbformat_minor": 5
}
