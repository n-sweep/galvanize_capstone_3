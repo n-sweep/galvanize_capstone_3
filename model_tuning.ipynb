{
 "cells": [
  {
   "cell_type": "code",
   "execution_count": 1,
   "id": "limiting-charge",
   "metadata": {},
   "outputs": [],
   "source": [
    "import pandas as pd\n",
    "import matplotlib.pyplot as plt\n",
    "from sklearn.metrics import confusion_matrix\n",
    "from src.model import *\n"
   ]
  },
  {
   "cell_type": "code",
   "execution_count": 2,
   "id": "identified-short",
   "metadata": {},
   "outputs": [],
   "source": [
    "cards = pd.read_json('data/cards.json')\n",
    "parent_dir = '/home/jovyan/data/art/'\n",
    "target_size = (224, 224)\n",
    "batch_size = 8\n"
   ]
  },
  {
   "cell_type": "code",
   "execution_count": 3,
   "id": "hairy-beast",
   "metadata": {},
   "outputs": [
    {
     "data": {
      "text/plain": [
       "array(['expansion', 'promo', 'core', 'draft_innovation', 'commander',\n",
       "       'starter', 'duel_deck', 'memorabilia', 'funny', 'box', 'token',\n",
       "       'masterpiece', 'planechase', 'masters', 'spellbook', 'vanguard',\n",
       "       'archenemy', 'from_the_vault', 'treasure_chest', 'premium_deck'],\n",
       "      dtype=object)"
      ]
     },
     "execution_count": 3,
     "metadata": {},
     "output_type": "execute_result"
    }
   ],
   "source": [
    "cards.set_type.unique()"
   ]
  },
  {
   "cell_type": "code",
   "execution_count": 4,
   "id": "crude-diary",
   "metadata": {},
   "outputs": [
    {
     "data": {
      "text/plain": [
       "array(['m21', 'm19', '7ed', 'm13', 'ori', '10e', '5ed', 'm12', 'm20',\n",
       "       'm15', 'm11', '9ed', '8ed', 'leb', 'm10', 'lea', 'm14', '4ed',\n",
       "       '6ed', 'sum', '3ed'], dtype=object)"
      ]
     },
     "execution_count": 4,
     "metadata": {},
     "output_type": "execute_result"
    }
   ],
   "source": [
    "df = cards[cards.set_type.isin(['core'])]\n",
    "df.set.unique()"
   ]
  },
  {
   "cell_type": "code",
   "execution_count": 5,
   "id": "aware-calibration",
   "metadata": {},
   "outputs": [
    {
     "name": "stdout",
     "output_type": "stream",
     "text": [
      "Found 1533 validated image filenames belonging to 6 classes.\n",
      "Found 383 validated image filenames belonging to 6 classes.\n",
      "Found 481 validated image filenames.\n"
     ]
    },
    {
     "name": "stderr",
     "output_type": "stream",
     "text": [
      "/opt/conda/lib/python3.8/site-packages/keras_preprocessing/image/dataframe_iterator.py:279: UserWarning: Found 12 invalid image filename(s) in x_col=\"path\". These filename(s) will be ignored.\n",
      "  warnings.warn(\n",
      "/opt/conda/lib/python3.8/site-packages/keras_preprocessing/image/dataframe_iterator.py:279: UserWarning: Found 12 invalid image filename(s) in x_col=\"path\". These filename(s) will be ignored.\n",
      "  warnings.warn(\n",
      "/opt/conda/lib/python3.8/site-packages/keras_preprocessing/image/dataframe_iterator.py:279: UserWarning: Found 2 invalid image filename(s) in x_col=\"path\". These filename(s) will be ignored.\n",
      "  warnings.warn(\n"
     ]
    }
   ],
   "source": [
    "train_df, test_df = prepare_data(df, test_size=0.2)\n",
    "\n",
    "train_gen, valid_gen, test_gen = flow_to_generators(\n",
    "    train_df, test_df,\n",
    "    parent_dir=parent_dir,\n",
    "    target_size=target_size,\n",
    "    batch_size=batch_size\n",
    ")"
   ]
  },
  {
   "cell_type": "code",
   "execution_count": 6,
   "id": "front-garden",
   "metadata": {},
   "outputs": [],
   "source": [
    "input_shape = target_size + (3,)\n",
    "model = Sequential()\n",
    "\n",
    "model.add(Conv2D(32, (3,3), padding='same', activation='relu', input_shape=input_shape))\n",
    "model.add(MaxPooling2D(pool_size=(2,2)))\n",
    "\n",
    "model.add(Conv2D(64, (3,3), activation='relu'))\n",
    "model.add(MaxPooling2D(pool_size=(2,2)))\n",
    "\n",
    "model.add(Conv2D(128, (3,3), activation='relu'))\n",
    "model.add(Dropout(0.2))\n",
    "model.add(MaxPooling2D(pool_size=(2,2)))\n",
    "model.add(Flatten())\n",
    "\n",
    "model.add(Dense(512, activation='relu', kernel_regularizer =tf.keras.regularizers.l1( l=0.01)))\n",
    "model.add(Dense(6, activation='softmax'))\n",
    "\n",
    "model.compile(\n",
    "    optimizer='adam',\n",
    "    loss='categorical_crossentropy',\n",
    "    metrics=['accuracy']\n",
    ")"
   ]
  },
  {
   "cell_type": "code",
   "execution_count": null,
   "id": "local-ghana",
   "metadata": {},
   "outputs": [
    {
     "name": "stdout",
     "output_type": "stream",
     "text": [
      "Epoch 1/10\n",
      "191/191 [==============================] - 68s 352ms/step - loss: 271.3743 - accuracy: 0.1977 - val_loss: 59.1486 - val_accuracy: 0.1888\n",
      "Epoch 2/10\n",
      " 35/191 [====>.........................] - ETA: 48s - loss: 57.9767 - accuracy: 0.2345"
     ]
    }
   ],
   "source": [
    "history = model.fit(\n",
    "    train_gen,\n",
    "    validation_data=train_gen,\n",
    "    steps_per_epoch=train_gen.n//train_gen.batch_size,\n",
    "    validation_steps=valid_gen.n//valid_gen.batch_size,\n",
    "    epochs=10\n",
    ")"
   ]
  },
  {
   "cell_type": "code",
   "execution_count": null,
   "id": "downtown-diabetes",
   "metadata": {},
   "outputs": [],
   "source": [
    "score = model.evaluate(valid_gen)\n",
    "print('Test loss:', score[0])\n",
    "print('Test accuracy:', score[1])\n"
   ]
  },
  {
   "cell_type": "code",
   "execution_count": null,
   "id": "different-corner",
   "metadata": {},
   "outputs": [],
   "source": [
    "fig, ax = plt.subplots()\n",
    "ax.plot(history.epoch, history.history['accuracy'])\n",
    "plt.show()"
   ]
  }
 ],
 "metadata": {
  "kernelspec": {
   "display_name": "Python 3",
   "language": "python",
   "name": "python3"
  },
  "language_info": {
   "codemirror_mode": {
    "name": "ipython",
    "version": 3
   },
   "file_extension": ".py",
   "mimetype": "text/x-python",
   "name": "python",
   "nbconvert_exporter": "python",
   "pygments_lexer": "ipython3",
   "version": "3.8.8"
  }
 },
 "nbformat": 4,
 "nbformat_minor": 5
}
