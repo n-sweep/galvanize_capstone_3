{
 "cells": [
  {
   "cell_type": "code",
   "execution_count": 1,
   "id": "unique-prime",
   "metadata": {},
   "outputs": [],
   "source": [
    "import pandas as pd\n",
    "import matplotlib.pyplot as plt\n",
    "from sklearn.metrics import confusion_matrix\n",
    "from src.model import *\n",
    "from src.mtg_df_prep import *\n"
   ]
  },
  {
   "cell_type": "code",
   "execution_count": 2,
   "id": "sized-concentration",
   "metadata": {},
   "outputs": [],
   "source": [
    "data_dir = '/home/jovyan/data/art/'\n",
    "target_size = (224, 224)\n",
    "batch_size = 8\n"
   ]
  },
  {
   "cell_type": "code",
   "execution_count": 3,
   "id": "twenty-mongolia",
   "metadata": {},
   "outputs": [],
   "source": [
    "cards = load_color_data(mono=True)"
   ]
  },
  {
   "cell_type": "code",
   "execution_count": 4,
   "id": "herbal-comparison",
   "metadata": {},
   "outputs": [
    {
     "data": {
      "text/plain": [
       "array(['expansion', 'promo', 'core', 'draft_innovation', 'commander',\n",
       "       'starter', 'duel_deck', 'funny', 'token', 'masterpiece',\n",
       "       'planechase', 'masters', 'spellbook', 'box', 'vanguard',\n",
       "       'archenemy', 'from_the_vault', 'memorabilia', 'treasure_chest',\n",
       "       'premium_deck'], dtype=object)"
      ]
     },
     "execution_count": 4,
     "metadata": {},
     "output_type": "execute_result"
    }
   ],
   "source": [
    "cards.set_type.unique()"
   ]
  },
  {
   "cell_type": "code",
   "execution_count": 5,
   "id": "geological-sensitivity",
   "metadata": {},
   "outputs": [
    {
     "data": {
      "text/plain": [
       "array(['m10'], dtype=object)"
      ]
     },
     "execution_count": 5,
     "metadata": {},
     "output_type": "execute_result"
    }
   ],
   "source": [
    "# df = cards[cards.set_type.isin(['core'])]\n",
    "df = cards[cards.set.isin(['m10'])]\n",
    "df.set.unique()"
   ]
  },
  {
   "cell_type": "code",
   "execution_count": 6,
   "id": "silent-sierra",
   "metadata": {},
   "outputs": [],
   "source": [
    "df = generate_flow_df(df)\n",
    "train_df, test_df = train_test_split(df, test_size=0.2)\n"
   ]
  },
  {
   "cell_type": "code",
   "execution_count": 7,
   "id": "controversial-phenomenon",
   "metadata": {},
   "outputs": [
    {
     "name": "stdout",
     "output_type": "stream",
     "text": [
      "Found 94 validated image filenames belonging to 6 classes.\n",
      "Found 23 validated image filenames belonging to 6 classes.\n",
      "Found 30 validated image filenames.\n"
     ]
    },
    {
     "name": "stderr",
     "output_type": "stream",
     "text": [
      "/opt/conda/lib/python3.8/site-packages/keras_preprocessing/image/dataframe_iterator.py:279: UserWarning: Found 1 invalid image filename(s) in x_col=\"path\". These filename(s) will be ignored.\n",
      "  warnings.warn(\n",
      "/opt/conda/lib/python3.8/site-packages/keras_preprocessing/image/dataframe_iterator.py:279: UserWarning: Found 1 invalid image filename(s) in x_col=\"path\". These filename(s) will be ignored.\n",
      "  warnings.warn(\n"
     ]
    }
   ],
   "source": [
    "# Instantiate Image Data Generators\n",
    "train_idg = ImageDataGenerator(\n",
    "    rescale=1 / 255.0,\n",
    "    rotation_range=20,\n",
    "    zoom_range=0.05,\n",
    "    width_shift_range=0.05,\n",
    "    height_shift_range=0.05,\n",
    "    shear_range=0.05,\n",
    "    horizontal_flip=True,\n",
    "    fill_mode=\"nearest\",\n",
    "    validation_split=0.20\n",
    ")\n",
    "test_idg = ImageDataGenerator(rescale=1/255.0)\n",
    "        \n",
    "train_gen = train_idg.flow_from_dataframe(\n",
    "    dataframe=train_df,\n",
    "    directory = data_dir,\n",
    "    x_col='path',\n",
    "    y_col='target',\n",
    "    target_size=target_size,\n",
    "    batch_size=batch_size,\n",
    "    class_mode='categorical',\n",
    "    subset='training',\n",
    "    shuffle=True,\n",
    "    seed=19\n",
    ")\n",
    "\n",
    "valid_gen = train_idg.flow_from_dataframe(\n",
    "    dataframe=train_df,\n",
    "    directory=data_dir,\n",
    "    x_col='path',\n",
    "    y_col='target',\n",
    "    target_size=target_size,\n",
    "    batch_size=batch_size,\n",
    "    class_mode='categorical',\n",
    "    subset='validation',\n",
    "    shuffle=True,\n",
    "    seed=19\n",
    ")\n",
    "\n",
    "test_gen = test_idg.flow_from_dataframe(\n",
    "    dataframe=test_df,\n",
    "    directory=data_dir,\n",
    "    x_col='path',\n",
    "    target_size=target_size,\n",
    "    batch_size=1,\n",
    "    class_mode=None,\n",
    "    shuffle=False\n",
    ")"
   ]
  },
  {
   "cell_type": "code",
   "execution_count": 8,
   "id": "wired-cricket",
   "metadata": {},
   "outputs": [],
   "source": [
    "input_shape = target_size + (3,)\n",
    "model = Sequential([\n",
    "    Conv2D(32, (3,3), padding='same', activation='relu', input_shape=input_shape),\n",
    "    MaxPooling2D(pool_size=(2,2)),\n",
    "\n",
    "    Conv2D(64, (3,3), activation='relu'),\n",
    "    MaxPooling2D(pool_size=(2,2)),\n",
    "\n",
    "    Conv2D(128, (3,3), activation='relu'),\n",
    "    Dropout(0.2),\n",
    "    MaxPooling2D(pool_size=(2,2)),\n",
    "\n",
    "    Flatten(),\n",
    "    Dense(512, activation='relu'),\n",
    "    Dense(6, activation='softmax', kernel_regularizer=tf.keras.regularizers.l2(0.01))\n",
    "])\n",
    "\n",
    "model.compile(\n",
    "    optimizer='adam',\n",
    "    loss='categorical_crossentropy',\n",
    "    metrics=['accuracy']\n",
    ")"
   ]
  },
  {
   "cell_type": "code",
   "execution_count": 9,
   "id": "starting-treasury",
   "metadata": {},
   "outputs": [
    {
     "data": {
      "text/plain": [
       "[<tensorflow.python.keras.layers.convolutional.Conv2D at 0x7fbf279e3220>,\n",
       " <tensorflow.python.keras.layers.pooling.MaxPooling2D at 0x7fc02593f8e0>,\n",
       " <tensorflow.python.keras.layers.convolutional.Conv2D at 0x7fbf279e3c40>,\n",
       " <tensorflow.python.keras.layers.pooling.MaxPooling2D at 0x7fbf422ddc70>,\n",
       " <tensorflow.python.keras.layers.convolutional.Conv2D at 0x7fbf422ddbe0>,\n",
       " <tensorflow.python.keras.layers.core.Dropout at 0x7fbf4696d2e0>,\n",
       " <tensorflow.python.keras.layers.pooling.MaxPooling2D at 0x7fbf4696d520>,\n",
       " <tensorflow.python.keras.layers.core.Flatten at 0x7fbf4696d760>,\n",
       " <tensorflow.python.keras.layers.core.Dense at 0x7fbf4696d910>,\n",
       " <tensorflow.python.keras.layers.core.Dense at 0x7fbf4696dc70>]"
      ]
     },
     "execution_count": 9,
     "metadata": {},
     "output_type": "execute_result"
    }
   ],
   "source": [
    "model.layers"
   ]
  },
  {
   "cell_type": "code",
   "execution_count": 10,
   "id": "legal-contest",
   "metadata": {},
   "outputs": [
    {
     "name": "stdout",
     "output_type": "stream",
     "text": [
      "Model: \"sequential\"\n",
      "_________________________________________________________________\n",
      "Layer (type)                 Output Shape              Param #   \n",
      "=================================================================\n",
      "conv2d (Conv2D)              (None, 224, 224, 32)      896       \n",
      "_________________________________________________________________\n",
      "max_pooling2d (MaxPooling2D) (None, 112, 112, 32)      0         \n",
      "_________________________________________________________________\n",
      "conv2d_1 (Conv2D)            (None, 110, 110, 64)      18496     \n",
      "_________________________________________________________________\n",
      "max_pooling2d_1 (MaxPooling2 (None, 55, 55, 64)        0         \n",
      "_________________________________________________________________\n",
      "conv2d_2 (Conv2D)            (None, 53, 53, 128)       73856     \n",
      "_________________________________________________________________\n",
      "dropout (Dropout)            (None, 53, 53, 128)       0         \n",
      "_________________________________________________________________\n",
      "max_pooling2d_2 (MaxPooling2 (None, 26, 26, 128)       0         \n",
      "_________________________________________________________________\n",
      "flatten (Flatten)            (None, 86528)             0         \n",
      "_________________________________________________________________\n",
      "dense (Dense)                (None, 512)               44302848  \n",
      "_________________________________________________________________\n",
      "dense_1 (Dense)              (None, 6)                 3078      \n",
      "=================================================================\n",
      "Total params: 44,399,174\n",
      "Trainable params: 44,399,174\n",
      "Non-trainable params: 0\n",
      "_________________________________________________________________\n"
     ]
    }
   ],
   "source": [
    "model.summary()"
   ]
  },
  {
   "cell_type": "code",
   "execution_count": 11,
   "id": "warming-tribe",
   "metadata": {},
   "outputs": [
    {
     "name": "stdout",
     "output_type": "stream",
     "text": [
      "Epoch 1/10\n",
      "11/11 [==============================] - 4s 323ms/step - loss: 4.3300 - accuracy: 0.1469 - val_loss: 1.8416 - val_accuracy: 0.2500\n",
      "Epoch 2/10\n",
      "11/11 [==============================] - 3s 281ms/step - loss: 1.8155 - accuracy: 0.2995 - val_loss: 1.8840 - val_accuracy: 0.1250\n",
      "Epoch 3/10\n",
      "11/11 [==============================] - 3s 278ms/step - loss: 1.8055 - accuracy: 0.2619 - val_loss: 1.8800 - val_accuracy: 0.1875\n",
      "Epoch 4/10\n",
      "11/11 [==============================] - 3s 278ms/step - loss: 1.8014 - accuracy: 0.2468 - val_loss: 1.6254 - val_accuracy: 0.4375\n",
      "Epoch 5/10\n",
      "11/11 [==============================] - 3s 287ms/step - loss: 1.7438 - accuracy: 0.2901 - val_loss: 1.5862 - val_accuracy: 0.3750\n",
      "Epoch 6/10\n",
      "11/11 [==============================] - 3s 301ms/step - loss: 1.4896 - accuracy: 0.4545 - val_loss: 1.4368 - val_accuracy: 0.5625\n",
      "Epoch 7/10\n",
      "11/11 [==============================] - 3s 285ms/step - loss: 1.4996 - accuracy: 0.3820 - val_loss: 1.6855 - val_accuracy: 0.2500\n",
      "Epoch 8/10\n",
      "11/11 [==============================] - 3s 280ms/step - loss: 1.4557 - accuracy: 0.4323 - val_loss: 1.8299 - val_accuracy: 0.1875\n",
      "Epoch 9/10\n",
      "11/11 [==============================] - 3s 284ms/step - loss: 1.4371 - accuracy: 0.4868 - val_loss: 1.3724 - val_accuracy: 0.5625\n",
      "Epoch 10/10\n",
      "11/11 [==============================] - 3s 284ms/step - loss: 1.4669 - accuracy: 0.4041 - val_loss: 1.6264 - val_accuracy: 0.3125\n"
     ]
    }
   ],
   "source": [
    "history = model.fit(\n",
    "    train_gen,\n",
    "    validation_data=train_gen,\n",
    "    steps_per_epoch=train_gen.n//train_gen.batch_size,\n",
    "    validation_steps=valid_gen.n//valid_gen.batch_size,\n",
    "    epochs=10\n",
    ")"
   ]
  },
  {
   "cell_type": "code",
   "execution_count": 12,
   "id": "double-transsexual",
   "metadata": {},
   "outputs": [
    {
     "name": "stdout",
     "output_type": "stream",
     "text": [
      "3/3 [==============================] - 0s 115ms/step - loss: 1.7853 - accuracy: 0.2609\n",
      "Test loss: 1.7853296995162964\n",
      "Test accuracy: 0.260869562625885\n"
     ]
    }
   ],
   "source": [
    "score = model.evaluate(valid_gen)\n",
    "print('Test loss:', score[0])\n",
    "print('Test accuracy:', score[1])\n"
   ]
  },
  {
   "cell_type": "code",
   "execution_count": 13,
   "id": "crucial-attention",
   "metadata": {},
   "outputs": [
    {
     "data": {
      "image/png": "[encoded data removed]",
      "text/plain": [
       "<Figure size 432x288 with 1 Axes>"
      ]
     },
     "metadata": {
      "needs_background": "light"
     },
     "output_type": "display_data"
    }
   ],
   "source": [
    "fig, ax = plt.subplots()\n",
    "ax.plot(history.epoch, history.history['accuracy'])\n",
    "plt.show()"
   ]
  },
  {
   "cell_type": "code",
   "execution_count": 14,
   "id": "biblical-cycle",
   "metadata": {},
   "outputs": [],
   "source": [
    "filenames = test_gen.filenames\n",
    "predict = model.predict(test_gen, steps=len(filenames))\n",
    "pred = ['CWUBRG'[c] for c in predict.argmax(axis=1)]\n",
    "true = test_df[test_df['path'].isin(test_gen.filenames)].explode('target')['target']"
   ]
  },
  {
   "cell_type": "code",
   "execution_count": 15,
   "id": "psychological-relation",
   "metadata": {},
   "outputs": [
    {
     "data": {
      "image/png": "[encoded data removed]",
      "text/plain": [
       "<Figure size 432x288 with 1 Axes>"
      ]
     },
     "metadata": {
      "needs_background": "light"
     },
     "output_type": "display_data"
    }
   ],
   "source": [
    "plot_conf_matrix(true, pred)"
   ]
  },
  {
   "cell_type": "code",
   "execution_count": 16,
   "id": "harmful-indie",
   "metadata": {},
   "outputs": [
    {
     "data": {
      "text/html": [
       "<div>\n",
       "<style scoped>\n",
       "    .dataframe tbody tr th:only-of-type {\n",
       "        vertical-align: middle;\n",
       "    }\n",
       "\n",
       "    .dataframe tbody tr th {\n",
       "        vertical-align: top;\n",
       "    }\n",
       "\n",
       "    .dataframe thead th {\n",
       "        text-align: right;\n",
       "    }\n",
       "</style>\n",
       "<table border=\"1\" class=\"dataframe\">\n",
       "  <thead>\n",
       "    <tr style=\"text-align: right;\">\n",
       "      <th></th>\n",
       "      <th>loss</th>\n",
       "      <th>accuracy</th>\n",
       "      <th>val_loss</th>\n",
       "      <th>val_accuracy</th>\n",
       "    </tr>\n",
       "  </thead>\n",
       "  <tbody>\n",
       "    <tr>\n",
       "      <th>0</th>\n",
       "      <td>3.266134</td>\n",
       "      <td>0.093023</td>\n",
       "      <td>1.841639</td>\n",
       "      <td>0.2500</td>\n",
       "    </tr>\n",
       "    <tr>\n",
       "      <th>1</th>\n",
       "      <td>1.841311</td>\n",
       "      <td>0.272727</td>\n",
       "      <td>1.884004</td>\n",
       "      <td>0.1250</td>\n",
       "    </tr>\n",
       "    <tr>\n",
       "      <th>2</th>\n",
       "      <td>1.808056</td>\n",
       "      <td>0.272727</td>\n",
       "      <td>1.880043</td>\n",
       "      <td>0.1875</td>\n",
       "    </tr>\n",
       "    <tr>\n",
       "      <th>3</th>\n",
       "      <td>1.812690</td>\n",
       "      <td>0.255814</td>\n",
       "      <td>1.625404</td>\n",
       "      <td>0.4375</td>\n",
       "    </tr>\n",
       "    <tr>\n",
       "      <th>4</th>\n",
       "      <td>1.685589</td>\n",
       "      <td>0.313953</td>\n",
       "      <td>1.586164</td>\n",
       "      <td>0.3750</td>\n",
       "    </tr>\n",
       "    <tr>\n",
       "      <th>5</th>\n",
       "      <td>1.566413</td>\n",
       "      <td>0.395349</td>\n",
       "      <td>1.436774</td>\n",
       "      <td>0.5625</td>\n",
       "    </tr>\n",
       "    <tr>\n",
       "      <th>6</th>\n",
       "      <td>1.548473</td>\n",
       "      <td>0.418605</td>\n",
       "      <td>1.685459</td>\n",
       "      <td>0.2500</td>\n",
       "    </tr>\n",
       "    <tr>\n",
       "      <th>7</th>\n",
       "      <td>1.477982</td>\n",
       "      <td>0.395349</td>\n",
       "      <td>1.829890</td>\n",
       "      <td>0.1875</td>\n",
       "    </tr>\n",
       "    <tr>\n",
       "      <th>8</th>\n",
       "      <td>1.424292</td>\n",
       "      <td>0.500000</td>\n",
       "      <td>1.372420</td>\n",
       "      <td>0.5625</td>\n",
       "    </tr>\n",
       "    <tr>\n",
       "      <th>9</th>\n",
       "      <td>1.453482</td>\n",
       "      <td>0.441860</td>\n",
       "      <td>1.626432</td>\n",
       "      <td>0.3125</td>\n",
       "    </tr>\n",
       "  </tbody>\n",
       "</table>\n",
       "</div>"
      ],
      "text/plain": [
       "       loss  accuracy  val_loss  val_accuracy\n",
       "0  3.266134  0.093023  1.841639        0.2500\n",
       "1  1.841311  0.272727  1.884004        0.1250\n",
       "2  1.808056  0.272727  1.880043        0.1875\n",
       "3  1.812690  0.255814  1.625404        0.4375\n",
       "4  1.685589  0.313953  1.586164        0.3750\n",
       "5  1.566413  0.395349  1.436774        0.5625\n",
       "6  1.548473  0.418605  1.685459        0.2500\n",
       "7  1.477982  0.395349  1.829890        0.1875\n",
       "8  1.424292  0.500000  1.372420        0.5625\n",
       "9  1.453482  0.441860  1.626432        0.3125"
      ]
     },
     "execution_count": 16,
     "metadata": {},
     "output_type": "execute_result"
    }
   ],
   "source": [
    "pd.DataFrame(history.history)"
   ]
  }
 ],
 "metadata": {
  "kernelspec": {
   "display_name": "Python 3",
   "language": "python",
   "name": "python3"
  },
  "language_info": {
   "codemirror_mode": {
    "name": "ipython",
    "version": 3
   },
   "file_extension": ".py",
   "mimetype": "text/x-python",
   "name": "python",
   "nbconvert_exporter": "python",
   "pygments_lexer": "ipython3",
   "version": "3.8.8"
  }
 },
 "nbformat": 4,
 "nbformat_minor": 5
}
